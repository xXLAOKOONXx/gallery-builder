{
 "cells": [
  {
   "cell_type": "code",
   "execution_count": 2,
   "metadata": {
    "tags": [
     "imports"
    ]
   },
   "outputs": [],
   "source": [
    "from pathlib import Path\n",
    "from PIL import Image\n",
    "import os"
   ]
  },
  {
   "cell_type": "code",
   "execution_count": 3,
   "metadata": {
    "tags": [
     "parameters"
    ]
   },
   "outputs": [],
   "source": [
    "target_folder = Path('./website')\n",
    "title = 'GALLERY'\n",
    "image_folder = Path('./images')\n",
    "background_folder = Path('./backgrounds')"
   ]
  },
  {
   "cell_type": "code",
   "execution_count": 4,
   "metadata": {},
   "outputs": [],
   "source": [
    "try: # this only works for windows\n",
    "  from tkinter.filedialog import askdirectory\n",
    "  target_folder = askdirectory(title='Target Folder')\n",
    "  image_folder = askdirectory(title='Images Folder')\n",
    "  background_folder = askdirectory(title='Backgrounds Folder')\n",
    "except Exception:\n",
    "  pass"
   ]
  },
  {
   "cell_type": "code",
   "execution_count": 5,
   "metadata": {},
   "outputs": [],
   "source": [
    "asset_folder = os.path.join(target_folder, 'assets')\n",
    "images_folder = os.path.join(asset_folder, 'images')\n",
    "backgrounds_folder = os.path.join(asset_folder, 'backgrounds')"
   ]
  },
  {
   "cell_type": "code",
   "execution_count": 6,
   "metadata": {
    "tags": [
     "functions"
    ]
   },
   "outputs": [],
   "source": [
    "\n",
    "\n",
    "\n",
    "def get_html_header(title:str):\n",
    "  return '''\n",
    "<!doctype html>\n",
    "<html lang=\"en\">\n",
    "\n",
    "<head>\n",
    "  <!-- Required meta tags -->\n",
    "  <meta charset=\"utf-8\">\n",
    "  <meta name=\"viewport\" content=\"width=device-width, initial-scale=1, shrink-to-fit=no\">\n",
    "  <link rel=\"stylesheet\" href=\"./style.css\">\n",
    "\n",
    "  <title>''' + title + '''</title>\n",
    "</head>\n",
    "\n",
    "<style>\n",
    "body {\n",
    "  background-image: url('assets/backgrounds/img_1.jpg');\n",
    "  background-repeat: no-repeat;\n",
    "  background-attachment: fixed;\n",
    "  background-size: cover;\n",
    "  min-width: 300px;\n",
    "}\n",
    "\n",
    "h1 {\n",
    "  text-align: center;\n",
    "  font-size: 3em;\n",
    "  color: rgba(255, 255, 255, 0.8);\n",
    "  text-shadow: 2px 2px 4px #000000;\n",
    "  backdrop-filter: blur(5px);\n",
    "}\n",
    "\n",
    "div.img-list {\n",
    "  display: flex;\n",
    "  flex-wrap: wrap;\n",
    "  justify-content: center;\n",
    "  align-items: center;\n",
    "  margin: 10px;\n",
    "}\n",
    "\n",
    "div.img-list .img-wrapper{\n",
    "  margin: 10px;\n",
    "  position: relative;\n",
    "  max-height: 1080px;\n",
    "  box-shadow: 2px 2px 6px 0px #000000;\n",
    "  opacity: 0.8;\n",
    "  transition: all 1s, z-index 0s;\n",
    "  backdrop-filter: blur(5px);\n",
    "  z-index: 0;\n",
    "\n",
    "  @media (max-width: 600px) {\n",
    "    max-height: 100px;\n",
    "  }\n",
    "\n",
    "  @media (max-width: 1200px) {\n",
    "    max-height: 200px;\n",
    "  }\n",
    "\n",
    "  @media (max-width: 1920px) {\n",
    "    max-height: 400px;\n",
    "  }\n",
    "\n",
    "  &:hover {\n",
    "    opacity: 1;\n",
    "    transform: scale(1.1);\n",
    "    box-shadow: 4px 4px 12px 0px #000000;\n",
    "    z-index: 1;\n",
    "  }\n",
    "}\n",
    "</style>\n",
    "\n",
    "<body>\n",
    "'''\n",
    "\n",
    "HTML_END = '''\n",
    "\n",
    "</body>\n",
    "\n",
    "</html>\n",
    "'''\n",
    "\n",
    "IMAGE_WRAPPER_START = '''<div class=\"img-list\">'''\n",
    "IMAGE_WRAPPER_END = '''</div>'''\n",
    "\n",
    "def get_html_header_1(header:str='GALLERY'):\n",
    "  return f'<h1>{header}</h1>'\n",
    "\n",
    "def get_image_name(idx:int):\n",
    "  return f'img_{idx}.jpg'\n",
    "\n",
    "def strip_exif_and_copy(file_path:Path, output_file_path:Path):\n",
    "  image = Image.open(file_path)\n",
    "\n",
    "  data = list(image.getdata())\n",
    "  image_without_exif = Image.new(image.mode, image.size)\n",
    "  image_without_exif.putdata(data)\n",
    "    \n",
    "  image_without_exif.save(output_file_path)\n",
    "  \n",
    "\n",
    "  # as a good practice, close the file handler after saving the image.\n",
    "  image_without_exif.close()\n",
    "\n",
    "  \n",
    "def transform_all_images(image_folder:Path, output_folder:Path):\n",
    "  image_index = 0\n",
    "  for root, dirs, files in os.walk(image_folder):\n",
    "    for file in files:\n",
    "      if file.endswith('.jpg'):\n",
    "        image_index += 1\n",
    "        strip_exif_and_copy(os.path.join(root, file), os.path.join(output_folder, get_image_name(image_index)))\n",
    "  return image_index\n",
    "\n",
    "def generate_image_html(image_count:int):\n",
    "  html_snippets = []\n",
    "  for i in range(1, image_count + 1):\n",
    "    html_snippets.append(f'<a id=\"img_1\" href=\"./assets/images/{get_image_name(i)}\" target=\"_blank\"><img src=\"./assets/images/{get_image_name(i)}\" class=\"img-wrapper\"></a>')\n",
    "  return ''.join(html_snippets)\n"
   ]
  },
  {
   "cell_type": "code",
   "execution_count": 7,
   "metadata": {
    "tags": [
     "execution"
    ]
   },
   "outputs": [],
   "source": [
    "\n",
    "if not os.path.exists(target_folder):\n",
    "  os.mkdir(target_folder)\n",
    "if not os.path.exists(asset_folder):\n",
    "  os.mkdir(asset_folder)\n",
    "if not os.path.exists(images_folder):\n",
    "  os.mkdir(images_folder)\n",
    "if not os.path.exists(backgrounds_folder):\n",
    "  os.mkdir(backgrounds_folder)\n",
    "\n",
    "image_count = transform_all_images(image_folder, images_folder)\n",
    "background_count = transform_all_images(background_folder, backgrounds_folder)\n",
    "\n",
    "htmls = []\n",
    "htmls.append(get_html_header(title))\n",
    "htmls.append(get_html_header_1(title))\n",
    "htmls.append(IMAGE_WRAPPER_START)\n",
    "\n",
    "htmls.append(generate_image_html(image_count))\n",
    "\n",
    "htmls.append(IMAGE_WRAPPER_END)\n",
    "\n",
    "htmls.append(HTML_END)\n",
    "\n",
    "with open(os.path.join(target_folder, 'index.html'), '+w') as f:\n",
    "  f.writelines(htmls)"
   ]
  }
 ],
 "metadata": {
  "kernelspec": {
   "display_name": "notebooks-D5fpLsaG-py3.11",
   "language": "python",
   "name": "python3"
  },
  "language_info": {
   "codemirror_mode": {
    "name": "ipython",
    "version": 3
   },
   "file_extension": ".py",
   "mimetype": "text/x-python",
   "name": "python",
   "nbconvert_exporter": "python",
   "pygments_lexer": "ipython3",
   "version": "3.11.0"
  }
 },
 "nbformat": 4,
 "nbformat_minor": 2
}
