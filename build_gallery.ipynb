{
 "cells": [
  {
   "cell_type": "markdown",
   "metadata": {},
   "source": [
    "## Imports"
   ]
  },
  {
   "cell_type": "code",
   "execution_count": null,
   "metadata": {
    "tags": [
     "imports"
    ]
   },
   "outputs": [],
   "source": [
    "from pathlib import Path\n",
    "from PIL import Image\n",
    "import os\n",
    "import json\n",
    "from typing import Literal\n",
    "import re\n",
    "import shutil\n",
    "import random"
   ]
  },
  {
   "cell_type": "markdown",
   "metadata": {},
   "source": [
    "## Configuration"
   ]
  },
  {
   "cell_type": "markdown",
   "metadata": {},
   "source": [
    "### Selecting folders"
   ]
  },
  {
   "cell_type": "code",
   "execution_count": null,
   "metadata": {
    "tags": [
     "parameters"
    ]
   },
   "outputs": [],
   "source": [
    "target_folder = Path('./website')\n",
    "title = 'GALLERY'\n",
    "image_folder = Path('./images')\n",
    "background_folder = Path('./backgrounds')\n",
    "video_folder = Path('./videos')"
   ]
  },
  {
   "cell_type": "code",
   "execution_count": null,
   "metadata": {},
   "outputs": [],
   "source": [
    "try:\n",
    "  import config\n",
    "  target_folder = config.target_folder\n",
    "  image_folder = config.input_image_folder\n",
    "  background_folder = config.background_folder\n",
    "  video_folder = config.video_folder\n",
    "except:\n",
    "  print(\"config.py not found, using default values.\")"
   ]
  },
  {
   "cell_type": "code",
   "execution_count": null,
   "metadata": {},
   "outputs": [],
   "source": [
    "try: # this only works for windows\n",
    "  if input('Wanna select folders? (empty for no)'):\n",
    "    from tkinter.filedialog import askdirectory\n",
    "    target_folder = askdirectory(title='Target Folder')\n",
    "    image_folder = askdirectory(title='Images Folder')\n",
    "    background_folder = askdirectory(title='Backgrounds Folder')\n",
    "    video_folder = askdirectory(title='Videos Folder')\n",
    "except Exception:\n",
    "  pass"
   ]
  },
  {
   "cell_type": "code",
   "execution_count": null,
   "metadata": {},
   "outputs": [],
   "source": [
    "print(f\"Target Folder: {target_folder}\")\n",
    "print(f\"Images Folder: {image_folder}\")\n",
    "print(f\"Backgrounds Folder: {background_folder}\")\n",
    "print(f\"Videos Folder: {video_folder}\")"
   ]
  },
  {
   "cell_type": "markdown",
   "metadata": {},
   "source": [
    "### Fileendings"
   ]
  },
  {
   "cell_type": "code",
   "execution_count": null,
   "metadata": {},
   "outputs": [],
   "source": [
    "VIDEO_FILE_ENDINGS = ['mp4', 'mov', 'webm', 'avi']\n",
    "IMAGE_FILE_ENDINGS = ['jpg', 'jpeg', 'png', 'gif', 'bmp', 'webp']"
   ]
  },
  {
   "cell_type": "markdown",
   "metadata": {},
   "source": [
    "### Targetstructure\n",
    "\n",
    "Do not change"
   ]
  },
  {
   "cell_type": "code",
   "execution_count": null,
   "metadata": {},
   "outputs": [],
   "source": [
    "ASSET_IMAGES_FOLDER_NAME = 'images'\n",
    "ASSET_VIDEOS_FOLDER_NAME = 'videos'\n",
    "ASSET_BACKGROUND_FOLDER_NAME = 'backgrounds'"
   ]
  },
  {
   "cell_type": "code",
   "execution_count": null,
   "metadata": {},
   "outputs": [],
   "source": [
    "asset_folder = os.path.join(target_folder, 'assets')\n",
    "data_folder = os.path.join(asset_folder, 'data')\n",
    "images_folder = os.path.join(asset_folder, ASSET_IMAGES_FOLDER_NAME)\n",
    "backgrounds_folder = os.path.join(asset_folder, ASSET_BACKGROUND_FOLDER_NAME)\n",
    "videos_folder = os.path.join(asset_folder, ASSET_VIDEOS_FOLDER_NAME)"
   ]
  },
  {
   "cell_type": "markdown",
   "metadata": {},
   "source": [
    "## Copying and Transforming Images"
   ]
  },
  {
   "cell_type": "code",
   "execution_count": null,
   "metadata": {},
   "outputs": [],
   "source": [
    "# target folder\n",
    "for f in os.listdir(target_folder):\n",
    "  if os.path.isdir(os.path.join(target_folder, f)):\n",
    "    shutil.rmtree(os.path.join(target_folder, f))"
   ]
  },
  {
   "cell_type": "code",
   "execution_count": null,
   "metadata": {},
   "outputs": [],
   "source": [
    "# Create Folders if they don't exist yet\n",
    "\n",
    "if not os.path.exists(target_folder):\n",
    "  os.mkdir(target_folder)\n",
    "if not os.path.exists(asset_folder):\n",
    "  os.mkdir(asset_folder)\n",
    "if not os.path.exists(images_folder):\n",
    "  os.mkdir(images_folder)\n",
    "if not os.path.exists(backgrounds_folder):\n",
    "  os.mkdir(backgrounds_folder)\n",
    "if not os.path.exists(videos_folder):\n",
    "  os.mkdir(videos_folder)"
   ]
  },
  {
   "cell_type": "code",
   "execution_count": null,
   "metadata": {
    "tags": [
     "functions"
    ]
   },
   "outputs": [],
   "source": [
    "# helper functions\n",
    "\n",
    "def get_image_name(idx:int, ending:str='jpg'):\n",
    "  return f'img_{idx}.{ending}'\n",
    "\n",
    "def get_video_name(idx:int, file_extension:str='mov'):\n",
    "  return f'vid_{idx}.{file_extension}'\n",
    "\n",
    "def strip_exif_and_copy(file_path:Path, output_file_path:Path):\n",
    "  image = Image.open(file_path)\n",
    "\n",
    "  data = list(image.getdata())\n",
    "  image_without_exif = Image.new(image.mode, image.size)\n",
    "  image_without_exif.putdata(data)\n",
    "    \n",
    "  image_without_exif.save(output_file_path)\n",
    "  \n",
    "\n",
    "  # as a good practice, close the file handler after saving the image.\n",
    "  image_without_exif.close()\n",
    "\n",
    "  \n",
    "def transform_all_images(image_folder:Path, output_folder:Path):\n",
    "  image_index = 0\n",
    "  original_file_names = []\n",
    "  for root, dirs, files in os.walk(image_folder):\n",
    "    for file in files:\n",
    "      for ending in IMAGE_FILE_ENDINGS:\n",
    "        if file.endswith(ending):\n",
    "          image_index += 1\n",
    "          strip_exif_and_copy(os.path.join(root, file), os.path.join(output_folder, get_image_name(image_index, ending)))\n",
    "          original_file_names.append(file)\n",
    "          break\n",
    "  return original_file_names\n",
    "\n",
    "def copy_videos(video_folder:Path, output_folder:Path):\n",
    "  video_index = 0\n",
    "  original_video_file_names = []\n",
    "  for root, dirs, files in os.walk(video_folder):\n",
    "    for file in files:\n",
    "      for ending in VIDEO_FILE_ENDINGS:\n",
    "        if file.endswith(ending):\n",
    "          video_index += 1\n",
    "          shutil.copyfile(os.path.join(root, file), os.path.join(output_folder, get_video_name(video_index, ending)))\n",
    "          original_video_file_names.append(file)\n",
    "          break\n",
    "  return original_video_file_names"
   ]
  },
  {
   "cell_type": "code",
   "execution_count": null,
   "metadata": {},
   "outputs": [],
   "source": [
    "# shifting files around\n",
    "original_image_file_names = transform_all_images(image_folder, images_folder)\n",
    "original_background_file_names = transform_all_images(background_folder, backgrounds_folder)\n",
    "original_video_file_names = copy_videos(video_folder, videos_folder)"
   ]
  },
  {
   "cell_type": "code",
   "execution_count": null,
   "metadata": {},
   "outputs": [],
   "source": [
    "video_folder"
   ]
  },
  {
   "cell_type": "markdown",
   "metadata": {},
   "source": [
    "## Create Metadata File"
   ]
  },
  {
   "cell_type": "code",
   "execution_count": null,
   "metadata": {},
   "outputs": [],
   "source": [
    "# create data folder if not exists\n",
    "\n",
    "if not os.path.exists(data_folder):\n",
    "  os.makedirs(data_folder)"
   ]
  },
  {
   "cell_type": "code",
   "execution_count": null,
   "metadata": {},
   "outputs": [],
   "source": [
    "# helper functions\n",
    "\n",
    "def create_all_media_json():\n",
    "  # collect filenames\n",
    "  detected_image_file_names = [f for f in os.listdir(images_folder) if os.path.isfile(os.path.join(images_folder, f)) and any(f.endswith(ending) for ending in IMAGE_FILE_ENDINGS)]\n",
    "  detected_video_file_names = [f for f in os.listdir(videos_folder) if os.path.isfile(os.path.join(videos_folder, f)) and any(f.endswith(ending) for ending in VIDEO_FILE_ENDINGS)]\n",
    "  detected_background_file_names = [f for f in os.listdir(backgrounds_folder) if os.path.isfile(os.path.join(backgrounds_folder, f)) and any(f.endswith(ending) for ending in IMAGE_FILE_ENDINGS)]\n",
    "  # add foldernames\n",
    "  detected_image_file_names = [{'src': './assets/images/' + f, 'type':'image'} for f in detected_image_file_names]\n",
    "  detected_video_file_names = [{'src': './assets/videos/' + f, 'type':'video'} for f in detected_video_file_names]\n",
    "  detected_background_file_names = [{'src': './assets/backgrounds/' + f, 'type':'image'} for f in detected_background_file_names]\n",
    "  media_json = {\n",
    "    'medias': detected_image_file_names + detected_video_file_names, # TODO Try adding sorting\n",
    "    'backgrounds': detected_background_file_names\n",
    "  }\n",
    "  with open(os.path.join(data_folder, 'media.json'), 'w') as f:\n",
    "    json.dump(media_json, f)"
   ]
  },
  {
   "cell_type": "code",
   "execution_count": null,
   "metadata": {},
   "outputs": [],
   "source": [
    "create_all_media_json()"
   ]
  },
  {
   "cell_type": "markdown",
   "metadata": {},
   "source": [
    "## Copy html files"
   ]
  },
  {
   "cell_type": "code",
   "execution_count": null,
   "metadata": {},
   "outputs": [],
   "source": [
    "html_folder = Path('./html')\n",
    "\n",
    "# Copy all files from html_folder to target_folder\n",
    "for item in html_folder.iterdir():\n",
    "  if item.is_file():\n",
    "    shutil.copy(item, target_folder)"
   ]
  }
 ],
 "metadata": {
  "kernelspec": {
   "display_name": "gallery-builder-4mAAG6Or-py3.12",
   "language": "python",
   "name": "python3"
  },
  "language_info": {
   "codemirror_mode": {
    "name": "ipython",
    "version": 3
   },
   "file_extension": ".py",
   "mimetype": "text/x-python",
   "name": "python",
   "nbconvert_exporter": "python",
   "pygments_lexer": "ipython3",
   "version": "3.12.1"
  }
 },
 "nbformat": 4,
 "nbformat_minor": 2
}
