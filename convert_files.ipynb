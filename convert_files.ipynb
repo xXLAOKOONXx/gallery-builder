{
 "cells": [
  {
   "cell_type": "markdown",
   "metadata": {},
   "source": [
    "# Convert Video Files"
   ]
  },
  {
   "cell_type": "markdown",
   "metadata": {},
   "source": [
    "This notebook supports you in converting video files from one format to another.\n",
    "\n",
    "This might be useful as mp4 or webm are filetypes that offer much higher compression and therefore lower file sizes which is nice for web.\n",
    "\n",
    "In order for this notebook to work make sure to have [ffmpeg](https://ffmpeg.org/) installed and added to your PATH.\n",
    "\n",
    "Disclaimer 1: Instead of typing the folders within the notebook, you can enter them using tkinter filedialog, but tkinter only works on windows!\n",
    "\n",
    "Disclaimer 2: The tkinter filedialog tends to hide between your other windows."
   ]
  },
  {
   "cell_type": "markdown",
   "metadata": {},
   "source": [
    "## Imports"
   ]
  },
  {
   "cell_type": "code",
   "execution_count": null,
   "metadata": {},
   "outputs": [],
   "source": [
    "import os\n",
    "import subprocess\n",
    "from pathlib import Path"
   ]
  },
  {
   "cell_type": "markdown",
   "metadata": {},
   "source": [
    "## Configuration"
   ]
  },
  {
   "cell_type": "code",
   "execution_count": null,
   "metadata": {},
   "outputs": [],
   "source": [
    "INPUT_FORMAT = \"mov\"\n",
    "OUTPUT_FORMAT = \"mp4\""
   ]
  },
  {
   "cell_type": "code",
   "execution_count": null,
   "metadata": {},
   "outputs": [],
   "source": [
    "input_folder = Path(\"INPUT/Folder\")\n",
    "output_folder = Path(\"OUTPUT/Folder\")"
   ]
  },
  {
   "cell_type": "code",
   "execution_count": null,
   "metadata": {},
   "outputs": [],
   "source": [
    "try:\n",
    "  from tkinter import filedialog\n",
    "  input_folder = Path(filedialog.askdirectory(title=\"Select the folder with the input files\"))\n",
    "  output_folder = Path(filedialog.askdirectory(title=\"Select the folder where the output files will be saved\"))\n",
    "except Exception as e:\n",
    "  print('Not able to use tkinter, using default folders')\n",
    "  print(e)\n"
   ]
  },
  {
   "cell_type": "markdown",
   "metadata": {},
   "source": [
    "## Convert Files\n",
    "\n",
    "Caution: This section might run for a good while if you got a lot of files and change the codec."
   ]
  },
  {
   "cell_type": "code",
   "execution_count": null,
   "metadata": {},
   "outputs": [],
   "source": [
    "# Create the output folder if it doesn't exist yet\n",
    "output_folder.mkdir(parents=True, exist_ok=True)\n",
    "\n",
    "# Iterate through all .mov files in the input folder\n",
    "for mov_file in input_folder.glob(f'*.{INPUT_FORMAT}'):\n",
    "    output_file = output_folder / f'{mov_file.stem}.{OUTPUT_FORMAT}'    \n",
    "    command = [\n",
    "        'ffmpeg',\n",
    "        '-i', str(mov_file),\n",
    "        str(output_file)\n",
    "    ]    \n",
    "    print(f\"Converting {mov_file} to {output_file}...\")\n",
    "    subprocess.run(command, check=True)\n",
    "\n",
    "print(\"Conversion complete!\")"
   ]
  }
 ],
 "metadata": {
  "kernelspec": {
   "display_name": "gallery-builder-4mAAG6Or-py3.12",
   "language": "python",
   "name": "python3"
  },
  "language_info": {
   "codemirror_mode": {
    "name": "ipython",
    "version": 3
   },
   "file_extension": ".py",
   "mimetype": "text/x-python",
   "name": "python",
   "nbconvert_exporter": "python",
   "pygments_lexer": "ipython3",
   "version": "3.12.1"
  }
 },
 "nbformat": 4,
 "nbformat_minor": 2
}
